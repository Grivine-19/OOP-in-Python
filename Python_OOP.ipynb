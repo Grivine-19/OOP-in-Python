{
 "metadata": {
  "language_info": {
   "codemirror_mode": {
    "name": "ipython",
    "version": 3
   },
   "file_extension": ".py",
   "mimetype": "text/x-python",
   "name": "python",
   "nbconvert_exporter": "python",
   "pygments_lexer": "ipython3",
   "version": "3.8.2-final"
  },
  "orig_nbformat": 2,
  "kernelspec": {
   "name": "python38264bit0854bf3467af411fb37e49bb5515948a",
   "display_name": "Python 3.8.2 64-bit"
  }
 },
 "nbformat": 4,
 "nbformat_minor": 2,
 "cells": [
  {
   "source": [
    "# <center>*PYTHON OBJECT ORIENTED PROGRAMMING CONCEPTS; With Examples*</center>"
   ],
   "cell_type": "markdown",
   "metadata": {}
  },
  {
   "source": [
    "## **Steps:**\n",
    "\n",
    "* *Create a class*\n",
    "\n",
    "* *Define attributes for the class*\n",
    "\n",
    "* *Assign values for the attributes; create objects*\n",
    "\n",
    "## <center>**Definition of Terms**</center>\n",
    "\n",
    "A. **Constuctor:** *the function invoked whenever an instance of a  class is created.*\n",
    "\n",
    "B. **Self:** *refers to \"this\"; whatever class is created.*"
   ],
   "cell_type": "markdown",
   "metadata": {}
  },
  {
   "source": [
    "# <center>**Demonstration of Concept**</center>"
   ],
   "cell_type": "markdown",
   "metadata": {}
  },
  {
   "cell_type": "code",
   "execution_count": 1,
   "metadata": {
    "tags": []
   },
   "outputs": [
    {
     "output_type": "stream",
     "name": "stdout",
     "text": "Music class created\nCountry Islands in the Streams\nReligious 10000 Reasons\n"
    }
   ],
   "source": [
    "class Music:\n",
    "    def __init__(self, genre, example):\n",
    "        self.genre = genre\n",
    "        self.example = example\n",
    "\n",
    "#test that the code works\n",
    "print(\"Music class created\")\n",
    "\n",
    "'''Create a list of songs(objects) for the music class.\n",
    "The variable songs is a placeholder for the objects in the 'Music' Class.'''\n",
    "\n",
    "songs = [Music('Country', 'Islands in the Streams'), \n",
    "Music('Reggae', 'Kiss no Frog'), Music('Religious', '10000 Reasons')]\n",
    "\n",
    "#print out each of the music genre with an example for each.\n",
    "print(songs[0].genre, songs[0].example)\n",
    "print(songs[2].genre, songs[2].example)"
   ]
  }
 ]
}